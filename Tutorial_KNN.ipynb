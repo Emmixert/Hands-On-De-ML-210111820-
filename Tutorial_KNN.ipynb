{
  "nbformat": 4,
  "nbformat_minor": 0,
  "metadata": {
    "colab": {
      "provenance": [],
      "authorship_tag": "ABX9TyM5XCa1nKV8+e2kmOvv13jc",
      "include_colab_link": true
    },
    "kernelspec": {
      "name": "python3",
      "display_name": "Python 3"
    },
    "language_info": {
      "name": "python"
    }
  },
  "cells": [
    {
      "cell_type": "markdown",
      "metadata": {
        "id": "view-in-github",
        "colab_type": "text"
      },
      "source": [
        "<a href=\"https://colab.research.google.com/github/Emmixert/Hands-On-De-ML-210111820-/blob/main/Tutorial_KNN.ipynb\" target=\"_parent\"><img src=\"https://colab.research.google.com/assets/colab-badge.svg\" alt=\"Open In Colab\"/></a>"
      ]
    },
    {
      "cell_type": "markdown",
      "source": [
        "# Introduccion\n",
        "\n",
        "El algoritmo Knn se trata de un algoritmo supervisado de machine learning, que es utilizado generalmente para clasificar, pero también puede ser utilizado para hacer regresión. El algoritmo funciona buscando los puntos de datos k (vecinos) más cercanos, dado un valor introducido (input), una vez obtenido los datos, el algoritmo arroja una estadistica de a que clase el nuevo valor pertence.\n",
        "\n",
        "k representa el numero de vecinos cercanos que se utilizaran para calcular el resultado."
      ],
      "metadata": {
        "id": "YmWFoJfRwM1c"
      }
    },
    {
      "cell_type": "markdown",
      "source": [
        "# Modelo matematico\n",
        "\n",
        "Para poder realizar los calculos, utilizamos metricas de distancia para poder identificar quienes son los vecinos mas cercanos, aplicamos la siguiente formula conocida como la distancia Euclidiana.\n",
        "\n",
        "![Euclidean distance.png](data:image/png;base64,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)\n",
        "\n"
      ],
      "metadata": {
        "id": "ltO3gZAYEdaY"
      }
    },
    {
      "cell_type": "markdown",
      "source": [
        "## Librerias requeridas\n",
        "\n",
        "Para el puro proposito de demostrar como funciona Knn, solamente necesitaremos numpy, y colllections, el cual utilizaremos para poder hacer conteo multiple de clases."
      ],
      "metadata": {
        "id": "2eqof5PpMiOT"
      }
    },
    {
      "cell_type": "code",
      "source": [
        "import numpy as np\n",
        "from collections import Counter"
      ],
      "metadata": {
        "id": "hVkl3nz7wNH0"
      },
      "execution_count": 1,
      "outputs": []
    },
    {
      "cell_type": "markdown",
      "source": [
        "# Pipeline\n",
        "\n",
        "Procedemos a aplicar la formula de la distancia Euclidiana."
      ],
      "metadata": {
        "id": "hxNuNmacNGod"
      }
    },
    {
      "cell_type": "code",
      "source": [
        "def euclidean_distance(point1, point2):\n",
        "    return np.sqrt(np.sum((np.array(point1) - np.array(point2))**2))"
      ],
      "metadata": {
        "id": "whdTaRzYNVcr"
      },
      "execution_count": 2,
      "outputs": []
    },
    {
      "cell_type": "markdown",
      "source": [
        "## Model Training\n",
        "\n",
        "Procedemos a entrenar el modelo.\n",
        "\n",
        "**distances.append** guarda quen tan lejos cada test point esta del training point, y les da una etiqueta.\n",
        "\n",
        "**distances.sort** es utilizado para ordenar la lista.\n",
        "\n",
        "**k_nearest_labels** escoge las etiquetas mas cercanas que esten dentro del valor k."
      ],
      "metadata": {
        "id": "dz6Jv6XWPjd6"
      }
    },
    {
      "cell_type": "code",
      "source": [
        "def knn_predict(training_data, training_labels, test_point, k):\n",
        "    distances = []\n",
        "    for i in range(len(training_data)):\n",
        "        dist = euclidean_distance(test_point, training_data[i])\n",
        "        distances.append((dist, training_labels[i]))\n",
        "    distances.sort(key=lambda x: x[0])\n",
        "    k_nearest_labels = [label for _, label in distances[:k]]\n",
        "    return Counter(k_nearest_labels).most_common(1)[0][0]"
      ],
      "metadata": {
        "id": "7HgTLhD_QIkk"
      },
      "execution_count": 3,
      "outputs": []
    },
    {
      "cell_type": "markdown",
      "source": [
        "## Training Data"
      ],
      "metadata": {
        "id": "e2t9g1rBQbKt"
      }
    },
    {
      "cell_type": "code",
      "source": [
        "training_data = [[1, 2], [2, 3], [3, 4], [6, 7], [7, 8]]\n",
        "training_labels = ['A', 'A', 'A', 'B', 'B']\n",
        "test_point = [4, 5]\n",
        "k = 3"
      ],
      "metadata": {
        "id": "tMJm1qVUQg1I"
      },
      "execution_count": 4,
      "outputs": []
    },
    {
      "cell_type": "markdown",
      "source": [
        "## Prediccion"
      ],
      "metadata": {
        "id": "lNDH7io_QmF_"
      }
    },
    {
      "cell_type": "code",
      "source": [
        "prediction = knn_predict(training_data, training_labels, test_point, k)\n",
        "print(prediction)"
      ],
      "metadata": {
        "colab": {
          "base_uri": "https://localhost:8080/"
        },
        "id": "uS3REQ6wQnkj",
        "outputId": "5c4395e0-2506-4d86-ed34-4b9da2500352"
      },
      "execution_count": 5,
      "outputs": [
        {
          "output_type": "stream",
          "name": "stdout",
          "text": [
            "A\n"
          ]
        }
      ]
    }
  ]
}